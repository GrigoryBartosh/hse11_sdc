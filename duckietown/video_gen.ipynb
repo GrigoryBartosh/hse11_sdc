{
 "cells": [
  {
   "cell_type": "code",
   "execution_count": null,
   "metadata": {},
   "outputs": [],
   "source": [
    "import numpy as np\n",
    "import cv2\n",
    "\n",
    "import matplotlib.pyplot as plt\n",
    "from tqdm.auto import tqdm, trange\n",
    "\n",
    "from solver import (\n",
    "    bird_eye_view,\n",
    "    find_duck,\n",
    "    find_boarder_line,\n",
    "    find_dotted_line,\n",
    "    filter_lines,\n",
    "    get_average_angle,\n",
    "    get_average_pos\n",
    ")"
   ]
  },
  {
   "cell_type": "code",
   "execution_count": null,
   "metadata": {},
   "outputs": [],
   "source": [
    "def load_video(path):\n",
    "    cap = cv2.VideoCapture(path)\n",
    "    \n",
    "    frames = []\n",
    "    while(cap.isOpened()):\n",
    "        ret, frame = cap.read()\n",
    "        if ret == True:\n",
    "            frames += [frame]\n",
    "        else:\n",
    "            break\n",
    "            \n",
    "    cap.release()\n",
    "    \n",
    "    return frames"
   ]
  },
  {
   "cell_type": "code",
   "execution_count": null,
   "metadata": {},
   "outputs": [],
   "source": [
    "def save_video(path, imgs):\n",
    "    h, w = imgs[0].shape[:2]\n",
    "    \n",
    "    out = cv2.VideoWriter(path, cv2.VideoWriter_fourcc('M','J','P','G'), 25, (w, h))\n",
    "\n",
    "    for frame in imgs:\n",
    "        out.write(frame)\n",
    "\n",
    "    out.release()"
   ]
  },
  {
   "cell_type": "code",
   "execution_count": null,
   "metadata": {},
   "outputs": [],
   "source": [
    "def proc_video(imgs, foo):\n",
    "    out = []\n",
    "    for img in tqdm(imgs):\n",
    "        img = foo(img)\n",
    "        \n",
    "        if isinstance(img, tuple):\n",
    "            img = list(img)\n",
    "        else:\n",
    "            img = [img]\n",
    "        \n",
    "        for i in range(len(img)):\n",
    "            if len(img[i].shape) == 2:\n",
    "                img[i] = cv2.cvtColor(img[i], cv2.COLOR_GRAY2BGR)\n",
    "                \n",
    "        hs = [img_i.shape[0] for img_i in img]\n",
    "        max_h = max(hs)\n",
    "        \n",
    "        for i in range(len(img)):\n",
    "            h, w = img[i].shape[:2]\n",
    "            new_img = np.zeros((max_h, w, 3), dtype=np.uint8)\n",
    "            new_img[:h] = img[i]\n",
    "            img[i] = new_img\n",
    "            \n",
    "        out += [np.concatenate(img, axis=1)]\n",
    "        \n",
    "    return out"
   ]
  },
  {
   "cell_type": "code",
   "execution_count": null,
   "metadata": {},
   "outputs": [],
   "source": [
    "def crop_image(img):\n",
    "    h, w = img.shape[:2]\n",
    "    return img[h//2:, :w//2]"
   ]
  },
  {
   "cell_type": "code",
   "execution_count": null,
   "metadata": {},
   "outputs": [],
   "source": [
    "def draw_line(img, line, color=(0, 0, 255)):\n",
    "    if line is None:\n",
    "        return\n",
    "    \n",
    "    a, b, c = line\n",
    "    \n",
    "    h, w = img.shape[:2]\n",
    "    \n",
    "    y1 = 0\n",
    "    y2 = h\n",
    "    \n",
    "    x1 = (-c - b * y1) / a\n",
    "    x2 = (-c - b * y2) / a\n",
    "    x1, x2 = int(x1), int(x2)\n",
    "    \n",
    "    cv2.line(img, (x1, y1), (x2, y2), color, 3)"
   ]
  },
  {
   "cell_type": "code",
   "execution_count": null,
   "metadata": {},
   "outputs": [],
   "source": [
    "def draw_bb(img, bb, color=(0, 255, 0)):\n",
    "    if bb is None:\n",
    "        return\n",
    "\n",
    "    cv2.rectangle(img, (bb[0], bb[1]), (bb[2], bb[3]), color, 3)"
   ]
  },
  {
   "cell_type": "code",
   "execution_count": null,
   "metadata": {},
   "outputs": [],
   "source": [
    "def draw_robot(img, center, color=(255, 0, 0)):\n",
    "    x, y = center\n",
    "    x, y = int(x), int(y)\n",
    "    cv2.line(img, (x, y), (x, y - 30), color, 3)\n",
    "    cv2.circle(img, (x, y), 10, color, -1)"
   ]
  },
  {
   "cell_type": "code",
   "execution_count": null,
   "metadata": {},
   "outputs": [],
   "source": [
    "def move_image(img, center, angle, pos):\n",
    "    if angle is None:\n",
    "        return np.zeros_like(img, dtype=np.uint8)\n",
    "    \n",
    "    rot_mat = cv2.getRotationMatrix2D(tuple(center), angle / np.pi * 180, 1.0)\n",
    "    result = cv2.warpAffine(img, rot_mat, img.shape[1::-1], flags=cv2.INTER_LINEAR)\n",
    "    \n",
    "    if pos is None:\n",
    "        return result\n",
    "    \n",
    "    h, w = result.shape[:2]\n",
    "    pos = int(pos)\n",
    "    if pos > 0:\n",
    "        result[:, pos:] = result[:, :-pos]\n",
    "        result[:, :pos] = 0\n",
    "    elif pos < 0:\n",
    "        result[:, :pos] = result[:, -pos:]\n",
    "        result[:, pos:] = 0\n",
    "    \n",
    "    return result"
   ]
  },
  {
   "cell_type": "code",
   "execution_count": null,
   "metadata": {},
   "outputs": [],
   "source": [
    "def proc_img(img):\n",
    "    img = crop_image(img)\n",
    "    biw = bird_eye_view(img)\n",
    "    \n",
    "    duck_cmp, duck_bb = find_duck(biw)\n",
    "    \n",
    "    boarder_line_mask, boarder_lines = find_boarder_line(biw)\n",
    "    dotted_line_mask, dotted_line = find_dotted_line(biw)\n",
    "    \n",
    "    h, w = biw.shape[:2]\n",
    "    center = np.array([w / 2, h])\n",
    "    \n",
    "    boarder_lines, dotted_line = filter_lines(boarder_lines, dotted_line)\n",
    "    angle = get_average_angle(boarder_lines, dotted_line)\n",
    "    pos = get_average_pos(boarder_lines, dotted_line, center)\n",
    "    \n",
    "    draw_line(biw, boarder_lines[0], color=(0, 0, 255))\n",
    "    draw_line(biw, boarder_lines[1], color=(0, 0, 255))\n",
    "    draw_line(biw, dotted_line, color=(0, 255, 0))\n",
    "    \n",
    "    draw_bb(biw, duck_bb)\n",
    "    \n",
    "    draw_robot(biw, center)\n",
    "    \n",
    "    biw_moved = move_image(biw, center, angle, pos)\n",
    "    \n",
    "    return img, biw, biw_moved"
   ]
  },
  {
   "cell_type": "code",
   "execution_count": null,
   "metadata": {},
   "outputs": [],
   "source": [
    "imgs = load_video(\"record.mp4\")\n",
    "imgs = proc_video(imgs, proc_img)\n",
    "save_video(\"res.mp4\", imgs)"
   ]
  }
 ],
 "metadata": {
  "kernelspec": {
   "display_name": "Python 3",
   "language": "python",
   "name": "python3"
  },
  "language_info": {
   "codemirror_mode": {
    "name": "ipython",
    "version": 3
   },
   "file_extension": ".py",
   "mimetype": "text/x-python",
   "name": "python",
   "nbconvert_exporter": "python",
   "pygments_lexer": "ipython3",
   "version": "3.6.6"
  }
 },
 "nbformat": 4,
 "nbformat_minor": 2
}
